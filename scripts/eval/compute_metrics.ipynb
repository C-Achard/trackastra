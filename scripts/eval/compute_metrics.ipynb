{
 "cells": [
  {
   "cell_type": "markdown",
   "id": "777e464b",
   "metadata": {},
   "source": [
    "# Trackastra evaluation metrics computation"
   ]
  },
  {
   "cell_type": "code",
   "execution_count": null,
   "id": "7657908f",
   "metadata": {},
   "outputs": [],
   "source": [
    "from pathlib import Path\n",
    "from metrics_from_config import compute_from_config"
   ]
  },
  {
   "cell_type": "markdown",
   "id": "ea20d83f",
   "metadata": {},
   "source": [
    "Three paths must be provided:\n",
    "\n",
    "- `config_dir`: Path to the training configuration file. The yaml must include a `test_input` field with the folders to be used for evaluation.\n",
    "- `model_dir`: Path to the model directory, created by the training run.\n",
    "- `outdir`: Path to the output directory, where the evaluation results will be saved. Can be used in the `benchmark.ipynb` notebook afterwards to load the results and plot them."
   ]
  },
  {
   "cell_type": "code",
   "execution_count": null,
   "id": "8105717c",
   "metadata": {},
   "outputs": [],
   "source": [
    "config_dir = Path(\"path/to/train_config.yaml\").resolve()\n",
    "model_dir = Path(\"path/to/model_folder\").resolve()\n",
    "outdir = (model_dir / \"metrics_output\").resolve()"
   ]
  },
  {
   "cell_type": "code",
   "execution_count": null,
   "id": "8d483ec8",
   "metadata": {},
   "outputs": [],
   "source": [
    "compute_from_config(\n",
    "    config_dir=config_dir,\n",
    "    model_dir=model_dir,\n",
    "    outdir=outdir,\n",
    ")"
   ]
  }
 ],
 "metadata": {
  "kernelspec": {
   "display_name": "tastra",
   "language": "python",
   "name": "python3"
  },
  "language_info": {
   "codemirror_mode": {
    "name": "ipython",
    "version": 3
   },
   "file_extension": ".py",
   "mimetype": "text/x-python",
   "name": "python",
   "nbconvert_exporter": "python",
   "pygments_lexer": "ipython3",
   "version": "3.10.16"
  }
 },
 "nbformat": 4,
 "nbformat_minor": 5
}
