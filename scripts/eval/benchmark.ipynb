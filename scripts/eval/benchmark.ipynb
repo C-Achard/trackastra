{
 "cells": [
  {
   "cell_type": "markdown",
   "id": "3420a51e",
   "metadata": {},
   "source": [
    "# Trackastra metrics comparison utility"
   ]
  },
  {
   "cell_type": "code",
   "execution_count": null,
   "id": "20acc486",
   "metadata": {},
   "outputs": [],
   "source": [
    "%load_ext autoreload\n",
    "%autoreload 2"
   ]
  },
  {
   "cell_type": "markdown",
   "id": "c36d77fa",
   "metadata": {},
   "source": [
    "## Load metrics"
   ]
  },
  {
   "cell_type": "code",
   "execution_count": null,
   "id": "7657908f",
   "metadata": {},
   "outputs": [],
   "source": [
    "from pathlib import Path\n",
    "import pandas as pd\n",
    "import seaborn as sns\n",
    "from metrics_utils import load_results_to_df, aggregate_metrics, SHOW_METRICS, plot_metrics_per_model, _format_metric_name"
   ]
  },
  {
   "cell_type": "markdown",
   "id": "9f89f247",
   "metadata": {},
   "source": [
    "The paths below should point to the directory where the output folders from the `compute_metrics.ipynb` notebook are located."
   ]
  },
  {
   "cell_type": "code",
   "execution_count": null,
   "id": "8105717c",
   "metadata": {},
   "outputs": [],
   "source": [
    "model_dirs = {    \n",
    "    \"Model 1\": Path(\"path/to/model1_tracked_folder\").resolve(),\n",
    "    \"Model 2\": Path(\"path/to/model2_tracked_folder\").resolve(),\n",
    "    # ...       \n",
    "}\n",
    "\n",
    "outdirs = {name : (model_dir / \"metrics_output\").resolve() for name, model_dir in model_dirs.items()}"
   ]
  },
  {
   "cell_type": "code",
   "execution_count": null,
   "id": "f0f63f7b",
   "metadata": {},
   "outputs": [],
   "source": [
    "dfs = []\n",
    "for name, outdir in outdirs.items():\n",
    "    df = load_results_to_df(run_name=name, results_path=outdir)\n",
    "    dfs.append(df)\n",
    "    \n",
    "df = pd.concat(dfs, ignore_index=True)"
   ]
  },
  {
   "cell_type": "markdown",
   "id": "b565e554",
   "metadata": {},
   "source": [
    "## Metrics table"
   ]
  },
  {
   "cell_type": "code",
   "execution_count": null,
   "id": "275f0099",
   "metadata": {},
   "outputs": [],
   "source": [
    "metrics_table = []\n",
    "\n",
    "for model in df[\"run_name\"].unique():\n",
    "    model_df = df[df[\"run_name\"] == model]\n",
    "    aggregated_metrics = aggregate_metrics(model_df)[SHOW_METRICS]\n",
    "    aggregated_metrics = aggregated_metrics.iloc[0] \n",
    "    aggregated_metrics[\"Model\"] = model  \n",
    "    metrics_table.append(aggregated_metrics.to_dict())  \n",
    "\n",
    "metrics_table_df = pd.DataFrame(metrics_table).set_index(\"Model\")\n",
    "metrics_table_df.columns = _format_metric_name(metrics_table_df.columns.to_list())\n",
    "display(metrics_table_df)"
   ]
  },
  {
   "cell_type": "markdown",
   "id": "6c396a0f",
   "metadata": {},
   "source": [
    "## Plots\n",
    "\n",
    "### Barplot\n"
   ]
  },
  {
   "cell_type": "code",
   "execution_count": null,
   "id": "e5c3a17c",
   "metadata": {},
   "outputs": [],
   "source": [
    "plot_metrics_per_model(df, plot_type=\"bar\")"
   ]
  },
  {
   "cell_type": "markdown",
   "id": "557515a3",
   "metadata": {},
   "source": [
    "### Boxplot"
   ]
  },
  {
   "cell_type": "code",
   "execution_count": null,
   "id": "2453c16e",
   "metadata": {},
   "outputs": [],
   "source": [
    "plot_metrics_per_model(df, plot_type=\"box\")"
   ]
  }
 ],
 "metadata": {
  "kernelspec": {
   "display_name": "tastra",
   "language": "python",
   "name": "python3"
  },
  "language_info": {
   "codemirror_mode": {
    "name": "ipython",
    "version": 3
   },
   "file_extension": ".py",
   "mimetype": "text/x-python",
   "name": "python",
   "nbconvert_exporter": "python",
   "pygments_lexer": "ipython3",
   "version": "3.10.16"
  }
 },
 "nbformat": 4,
 "nbformat_minor": 5
}
